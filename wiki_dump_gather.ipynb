{
 "cells": [
  {
   "cell_type": "code",
   "execution_count": 2,
   "metadata": {},
   "outputs": [],
   "source": [
    "import os\n",
    "import time\n",
    "import requests\n",
    "from bs4 import BeautifulSoup  # Parsing HTML"
   ]
  },
  {
   "cell_type": "code",
   "execution_count": 3,
   "metadata": {},
   "outputs": [
    {
     "data": {
      "text/plain": [
       "[<td class=\"indexcolname\"><a href=\"/mirror/wikimedia.org/dumps/enwiki/\">Parent Directory</a></td>,\n",
       " <td class=\"indexcolname\"><a href=\"dumpruninfo.json\">dumpruninfo.json</a></td>,\n",
       " <td class=\"indexcolname\"><a href=\"dumpruninfo.txt\">dumpruninfo.txt</a></td>,\n",
       " <td class=\"indexcolname\"><a href=\"dumpspecialfiles.json\">dumpspecialfiles.json</a></td>]"
      ]
     },
     "execution_count": 3,
     "metadata": {},
     "output_type": "execute_result"
    }
   ],
   "source": [
    "base_url = 'https://ftp.acc.umu.se/mirror/wikimedia.org/dumps/enwiki/20200101/'\n",
    "dump_html = requests.get(base_url).text\n",
    "soup_dump = BeautifulSoup(dump_html, 'html.parser')\n",
    "\n",
    "soup_dump.find_all('td', {'class': 'indexcolname'}, limit = 10)[:4]"
   ]
  },
  {
   "cell_type": "code",
   "execution_count": 4,
   "metadata": {},
   "outputs": [],
   "source": [
    "import bz2\n",
    "import subprocess"
   ]
  },
  {
   "cell_type": "markdown",
   "metadata": {},
   "source": [
    "Get all the partitioned file paths for the whole wikipedia dump."
   ]
  },
  {
   "cell_type": "code",
   "execution_count": 5,
   "metadata": {},
   "outputs": [],
   "source": [
    "base_path = 'data/wiki_dumps/'\n",
    "\n",
    "data_paths = []\n",
    "file_info = []"
   ]
  },
  {
   "cell_type": "code",
   "execution_count": 6,
   "metadata": {},
   "outputs": [],
   "source": [
    "for file in os.listdir(base_path):\n",
    "    path = base_path + file\n",
    "    data_paths.append(path)\n",
    "    \n",
    "    file_size = os.stat(path).st_size / 1e6\n",
    "    file_info.append((file, file_size))"
   ]
  },
  {
   "cell_type": "code",
   "execution_count": 7,
   "metadata": {},
   "outputs": [
    {
     "name": "stdout",
     "output_type": "stream",
     "text": [
      "Amount of Partitions:  58\n"
     ]
    }
   ],
   "source": [
    "print('Amount of Partitions: ', len(data_paths))"
   ]
  },
  {
   "cell_type": "code",
   "execution_count": 8,
   "metadata": {},
   "outputs": [
    {
     "data": {
      "text/plain": [
       "[('enwiki-20200101-pages-articles12.xml-p3926864p5040435.bz2', 412.036518),\n",
       " ('enwiki-20200101-pages-articles14.xml-p6197599p7697599.bz2', 408.831179),\n",
       " ('enwiki-20200101-pages-articles13.xml-p5040438p6197593.bz2', 405.014561)]"
      ]
     },
     "execution_count": 8,
     "metadata": {},
     "output_type": "execute_result"
    }
   ],
   "source": [
    "sorted(file_info, key = lambda x: x[1], reverse=True)[:3]"
   ]
  },
  {
   "cell_type": "code",
   "execution_count": 9,
   "metadata": {},
   "outputs": [
    {
     "data": {
      "text/plain": [
       "'data/wiki_dumps/enwiki-20200101-pages-articles3.xml-p88445p200507.bz2'"
      ]
     },
     "execution_count": 9,
     "metadata": {},
     "output_type": "execute_result"
    }
   ],
   "source": [
    "file_path = data_paths[0]\n",
    "file_path"
   ]
  },
  {
   "cell_type": "code",
   "execution_count": 10,
   "metadata": {},
   "outputs": [
    {
     "name": "stdout",
     "output_type": "stream",
     "text": [
      "Millions passed 1\n",
      "Millions passed 2\n",
      "Millions passed 3\n",
      "Millions passed 4\n",
      "Millions passed 5\n",
      "Millions passed 6\n",
      "Millions passed 7\n",
      "Millions passed 8\n",
      "Millions passed 9\n",
      "Millions passed 10\n",
      "Millions passed 11\n",
      "Millions passed 12\n",
      "Millions passed 13\n",
      "Total lines:  13902783\n"
     ]
    }
   ],
   "source": [
    "counter = 0\n",
    "millions_passed = 0\n",
    "\n",
    "for line in subprocess.Popen(['bzcat'], stdin = open(file_path), stdout = subprocess.PIPE).stdout:\n",
    "    counter += 1\n",
    "    if counter % 1_000_000 == 999_999:\n",
    "        millions_passed += 1\n",
    "        print('Millions passed', millions_passed)\n",
    "\n",
    "print('Total lines: ', counter)"
   ]
  },
  {
   "cell_type": "code",
   "execution_count": 27,
   "metadata": {},
   "outputs": [
    {
     "name": "stdout",
     "output_type": "stream",
     "text": [
      "Raw partition no.  1 has already been created.\n",
      "Raw partition no.  2 has already been created.\n",
      "Raw partition no.  3 has already been created.\n",
      "Raw partition no.  4 has already been created.\n"
     ]
    }
   ],
   "source": [
    "# FIRST: write files into raw_unzipped folder\n",
    "\n",
    "raw_unzipped_base_path = 'data/raw_unzipped/'\n",
    "raw_unzipped_paths = []\n",
    "\n",
    "partition_number = 1\n",
    "for data_path in data_paths[:4]:\n",
    "    \n",
    "    start_time = time.time()\n",
    "    \n",
    "    raw_unzipped_path = f'{raw_unzipped_base_path}raw_partition_{partition_number}.txt'\n",
    "    \n",
    "    if not os.path.isfile(raw_unzipped_path):  # check if file already exists\n",
    "        with open(raw_unzipped_path, 'w') as file:\n",
    "            for i, line in enumerate(subprocess.Popen(['bzcat'], stdin = open(data_path), stdout = subprocess.PIPE).stdout):\n",
    "                file.write(line.decode('utf-8'))\n",
    "                if i > 100_000:\n",
    "                    break\n",
    "        elapsed_time = time.time() - start_time\n",
    "        print('Raw partition no. {:2d} was finished in {:06.2f} seconds.'.format(partition_number, elapsed_time))\n",
    "    else: \n",
    "        print('Raw partition no. {:2d} has already been created.'.format(partition_number))\n",
    "    \n",
    "    raw_unzipped_paths.append(raw_unzipped_path)\n",
    "    partition_number += 1"
   ]
  },
  {
   "cell_type": "code",
   "execution_count": 29,
   "metadata": {},
   "outputs": [
    {
     "data": {
      "text/plain": [
       "['data/raw_unzipped/raw_partition_1.txt',\n",
       " 'data/raw_unzipped/raw_partition_2.txt',\n",
       " 'data/raw_unzipped/raw_partition_3.txt',\n",
       " 'data/raw_unzipped/raw_partition_4.txt']"
      ]
     },
     "execution_count": 29,
     "metadata": {},
     "output_type": "execute_result"
    }
   ],
   "source": [
    "raw_unzipped_paths"
   ]
  },
  {
   "cell_type": "code",
   "execution_count": null,
   "metadata": {},
   "outputs": [],
   "source": [
    "with open(raw_unzipped_paths[3], 'r') as file:\n",
    "    for i, line in enumerate(file):\n",
    "        print(line)\n",
    "        \n",
    "        if i > 50:\n",
    "            break"
   ]
  },
  {
   "cell_type": "code",
   "execution_count": 33,
   "metadata": {},
   "outputs": [],
   "source": [
    "import xml.sax\n",
    "\n",
    "class WikiXmlHandler(xml.sax.handler.ContentHandler):\n",
    "    \"\"\"Content handler for Wiki XML data using SAX\"\"\"\n",
    "    def __init__(self):\n",
    "        xml.sax.handler.ContentHandler.__init__(self)\n",
    "        self._buffer = None\n",
    "        self._values = {}\n",
    "        self._current_tag = None\n",
    "        self._pages = []\n",
    "\n",
    "    def characters(self, content):\n",
    "        \"\"\"Characters between opening and closing tags\"\"\"\n",
    "        if self._current_tag:\n",
    "            self._buffer.append(content)\n",
    "\n",
    "    def startElement(self, name, attrs):\n",
    "        \"\"\"Opening tag of element\"\"\"\n",
    "        if name in ('title', 'text', 'id'):\n",
    "            self._current_tag = name\n",
    "            self._buffer = []\n",
    "\n",
    "    def endElement(self, name):\n",
    "        \"\"\"Closing tag of element\"\"\"\n",
    "        if name == self._current_tag:\n",
    "            self._values[name] = ' '.join(self._buffer)\n",
    "\n",
    "        if name == 'page':\n",
    "            self._pages.append((self._values['title'], self._values['text'], self._values['id']))"
   ]
  },
  {
   "cell_type": "code",
   "execution_count": 34,
   "metadata": {},
   "outputs": [],
   "source": [
    "import json"
   ]
  },
  {
   "cell_type": "code",
   "execution_count": 45,
   "metadata": {},
   "outputs": [
    {
     "name": "stdout",
     "output_type": "stream",
     "text": [
      "Partition no. 1 was already created\n"
     ]
    }
   ],
   "source": [
    "import mwparserfromhell\n",
    "\n",
    "xml_parsed_base_path = 'data/xml_parsed/'\n",
    "xml_parsed_paths = []\n",
    "\n",
    "partition_number = 1\n",
    "for rup in raw_unzipped_paths[partition_number - 1:partition_number]:\n",
    "    \n",
    "    xml_parsed_path = f'{xml_parsed_base_path}page_xmlp_{partition_number}.jsonl'\n",
    "    if not os.path.isfile(xml_parsed_path):\n",
    "    \n",
    "        # Content handler for Wiki XML\n",
    "        handler = WikiXmlHandler()\n",
    "        # Parsing object\n",
    "        parser = xml.sax.make_parser()\n",
    "        parser.setContentHandler(handler)\n",
    "\n",
    "        with open(rup, 'r') as file:\n",
    "\n",
    "            for line in file:\n",
    "                parser.feed(line)\n",
    "            \n",
    "            \n",
    "        with open(xml_parsed_path, 'w') as file:\n",
    "            for page in handler._pages:\n",
    "                # START\n",
    "                if page[1][:10].lower().startswith('#redirect'):\n",
    "                    continue\n",
    "                    \n",
    "                title = page[0]\n",
    "                raw_text = page[1]\n",
    "                ids = page[2]\n",
    "                \n",
    "                wikicode = mwparserfromhell.parse(raw_text)\n",
    "                \n",
    "                templates = wikicode.filter_templates()\n",
    "                for template in templates:\n",
    "                    \n",
    "                    if tmp not in wikicode._nodes:\n",
    "                        continue\n",
    "                    \n",
    "                    try:\n",
    "                        wikicode.remove(template)\n",
    "                    except:\n",
    "                        pass\n",
    "                \n",
    "                text = wikicode.strip_code().strip()[:1000]\n",
    "\n",
    "                tmp = {\n",
    "                    \"title\": title,\n",
    "                    \"text\": text,\n",
    "                    \"id\": ids\n",
    "                }\n",
    "\n",
    "                json_tmp = json.dumps(tmp)\n",
    "                file.write(json_tmp + '\\n')\n",
    "\n",
    "        print(f'Finished partition no. {partition_number}')\n",
    "    else:\n",
    "        print(f'Partition no. {partition_number} was already created')\n",
    "    xml_parsed_paths.append(xml_parsed_path)\n",
    "    partition_number += 1"
   ]
  },
  {
   "cell_type": "code",
   "execution_count": 31,
   "metadata": {},
   "outputs": [
    {
     "data": {
      "text/plain": [
       "['data/xml_parsed/page_xmlp_1.jsonl']"
      ]
     },
     "execution_count": 31,
     "metadata": {},
     "output_type": "execute_result"
    }
   ],
   "source": [
    "xml_parsed_paths"
   ]
  },
  {
   "cell_type": "code",
   "execution_count": 19,
   "metadata": {},
   "outputs": [
    {
     "name": "stdout",
     "output_type": "stream",
     "text": [
      "\"'''MHS''' may refer to: \\n \\n ==Schools== \\n *[[Manhattan High School]], Manhattan, Kansas, US \\n *[[Marianas High School]], Saipan, CNMI, US \\n * [[\n",
      "\"{{Unreferenced stub|auto=yes|date=December 2009}} \\n '''PMI''' (Picture Music International) was a division of [[EMI]] that specialised in music vide\n",
      "\"{{Infobox holiday \\n |holiday_name  = St Mark's Eve \\n |type          =  \\n |image         = \\n |imagesize     = \\n |caption       = \\n |official_nam\n",
      "'{{Infobox mountain \\n | name = Mount Sopris West Peak \\n | photo = Mtsop.JPG \\n | photo_caption = Mount Sopris as viewed from [[Colorado State Highwa\n",
      "'< div class= \" boilerplate metadata vfd \"  style= \" background-color: #F3F9FF; margin: 0 auto; padding: 0 10px 0 10px; border: 1px solid #AAAAAA; \" >\n",
      "'\\'\\'\\'Henry Preserved Smith\\'\\'\\' (October 12, 1847  & ndash; February 26, 1927) was an American biblical scholar. \\n \\n Smith was born in [[Troy, Oh\n",
      "\"{{EngvarB|date=October 2017}} \\n {{Use dmy dates|date=October 2017}} \\n {{More citations needed|date=May 2014}} \\n {{Infobox economist \\n | name     \n",
      "'{{Infobox mountain range \\n < !-- *** Heading *** -- > \\n | name = Elk Range \\n | native_name =  \\n | other_name =  \\n < !-- *** Names **** -- >   \\n\n",
      "'{{refimprove|date=June 2014}} \\n \\'\\'\\'The Sunburst Award for Canadian Literature of the Fantastic\\'\\'\\' is an annual [[award]] given for a [[specula\n",
      "\"{{Other people|Sean Moore}} \\n {{Infobox officeholder \\n | name         = Sean Moore \\n | nationality  = Irish \\n | office       = [[Minister of Stat\n",
      "\"{{BLP sources|date=November 2009}} \\n {{Infobox sportsperson \\n | name           = Taner Sağır \\n | image          =  \\n | imagesize      = \\n | capt\n",
      "Redirects 0\n",
      "Percentage 0.0\n"
     ]
    }
   ],
   "source": [
    "res = None\n",
    "total_counter = 0\n",
    "redirect_counter = 0\n",
    "with open(xml_parsed_paths[0], 'r') as file:\n",
    "    for i, line in enumerate(file):\n",
    "        res = json.loads(line)\n",
    "        title = res['title']\n",
    "        text = res['text']\n",
    "        \n",
    "        total_counter += 1\n",
    "        if text[:10].lower().startswith('#redirect'):\n",
    "            redirect_counter +=1\n",
    "        \n",
    "#         print(f'{title:50}Text Length: {len(text):4d}\\tSnippet: {repr(text)[:80]:80}')\n",
    "#         if i == 30:\n",
    "#             break\n",
    "        print(f'{repr(text)[:150]:150}')\n",
    "        if i == 10:\n",
    "            break\n",
    "\n",
    "print('Redirects', redirect_counter)\n",
    "print('Percentage', redirect_counter / total_counter)"
   ]
  },
  {
   "cell_type": "code",
   "execution_count": 24,
   "metadata": {},
   "outputs": [
    {
     "name": "stdout",
     "output_type": "stream",
     "text": [
      "\n",
      "\n",
      "\n",
      "MHS ====================================================================================================\n",
      "MHS may refer to: \n",
      " \n",
      " ==Schools== \n",
      " *Manhattan High School, Manhattan, Kansas, US \n",
      " *Marianas High School, Saipan, CNMI, US \n",
      " * Marryatville High School, Adelaide, Australia \n",
      " *Massapequa High School, Massapequa, New York, US \n",
      " *Matthew Humberstone School, Cleethorpes, England \n",
      " *Mauldin High School, Mauldin, South Carolina, US \n",
      " *McMinnville High School, McMinnville, Oregon, US \n",
      " *Melbourne High School, Melbourne, Australia \n",
      " *Marysville High School (disambiguation) \n",
      " \n",
      " ==Other uses== \n",
      " *Air Memphis (ICAO code: MHS), an Egyptian airline \n",
      " *Mars Helicopter Scout \n",
      " *Master of Health Science, a graduate degree program \n",
      " *Meadowhall Interchange, a railway station in England, National Rail station code \n",
      " *Message Handling System, a past Novell email protocol  \n",
      " *Michigan Humane Society, in animal welfare \n",
      " *Microwave Humidity Sounder, satellite-borne instrument \n",
      " *Military Health System, of US DoD \n",
      " *Modular Handgun System \n",
      " *Montana Historical Society \n",
      " \n",
      " ==See also== \n",
      " *Mental health service (disambiguation)\n",
      "\n",
      "\n",
      "\n",
      "Picture Music International ====================================================================================================\n",
      "PMI (Picture Music International) was a division of EMI that specialised in music video releases for EMI artists. Releases included videos from The Beatles, Kate Bush, Cliff Richard, Pet Shop Boys, Queen, Pink Floyd and Duran Duran, as well as Iron Maiden and Queensrÿche.  It has been succeeded by Abbey Road Interactive. \n",
      " \n",
      " Category:EMI\n",
      "\n",
      "\n",
      "\n",
      "St Mark's Eve ====================================================================================================\n",
      "St. Mark's Eve is the day before the feast day of St. Mark the Evangelist. In liturgical Christian churches, this feast of St. Mark is observed on 25 April of each year; thus St. Mark's Eve is 24 April. \n",
      " \n",
      " ==English folklore== \n",
      " It was the custom in villages in England, from the 17th century to the late 19th century, to sit in the church porch on St. Mark's Eve. Those sitting had to keep silent between the bell tolling at 11.00 p.m. until the bell struck 1.00 a.m. In Yorkshire it was necessary to keep vigil for three successive nights. < ref name=Chambers >  < /ref >  On the third such sitting, it was said that the ghosts of those to die during the year would be witnessed passing into the church. This practice took place throughout England, but was most prevalent in northern and western counties. \n",
      " \n",
      " Some accounts of the custom state that the watchers must be fasting, or must circle the church before taking up position.  The ghosts of those who were to die soon would be the first observed, while those who would almost see out the year would not be witnessed until almost 1.00 a.m.  Other variations of the superstition say that the watchers would see headless or rotting corpses, or coffins approaching. Another tradition holds that a young woman can see the face of her future husband appear on her smock by holding it before the fire on St Mark's Eve. < ref name=Chambers/ > \n",
      " \n",
      " ==In popular literature== \n",
      " * The Eve of St. Mark, a poem by John Keats < ref >  < /ref\n",
      "THIS IS THE LINE BEING PRINTED {\"title\": \"Mount Sopris\", \"text\": \"{{Infobox mountain \\n | name = Mount Sopris West Peak \\n | photo = Mtsop.JPG \\n | photo_caption = Mount Sopris as viewed from [[Colorado State Highway 82|State Highway 82]]. \\n | elevation_ft = 12965 \\n | elevation_ref =  < ref name=NGS > {{cite ngs|pid=KL0683|name=W SOPRIS|accessdate=November 6, 2014}} < /ref > < ref name=NAVD88 > The elevation of Mount Sopris West Peak includes an adjustment of +1.669 & nbsp;m (+5.48 & nbsp;ft) from [[Sea Level Datum of 1929|NGVD & nbsp;29]] to [[North American Vertical Datum of 1988|NAVD & nbsp;88]]. < /ref > \\n | prominence_ft = 1453 \\n | prominence_ref =  < ref name=PB > {{cite peakbagger|pid=16660|title=Mount Sopris, Colorado|accessdate=November 6, 2014}} < /ref > \\n | isolation_mi = 9.23 \\n | isolation_ref =  < ref name=PB/ > \\n | listing = \\n | range = [[Elk Mountains (Colorado)|Elk Mountains]] < ref name=PB/ > \\n | location = [[Pitkin County, Colorado|Pitkin County]], [[Colorado]], [[United States|U.S.]] < ref name=GNIS > {{cite gnis|id=175012|name=Mount Sopris|accessdate=November 6, 2014}} < /ref > \\n | map = Colorado \\n | map_caption = '''[[Colorado]]''' \\n | coordinates = {{coord|39.2632208|N|107.1758583|W|type:mountain_region:US-CO_scale:100000|format=dms|display=inline,title}} \\n | range_coordinates =  \\n | coordinates_ref =  < ref name=NGS/ > \\n | topo = [[United States Geological Survey#Topographic mapping|USGS 7.5' topographic map]] < br/ > Mount Sopris, Colorado < ref name=NGS/ > \\n | first_ascent =  \\n | easiest_route = Mount Sopris Trail (hike) \\n }} \\n {{Infobox mountain \\n | name = Mount Sopris East Peak \\n | photo = \\n | photo_caption =  \\n | elevation_ft = 12965 \\n | elevation_ref =  < ref > The elevation of Mount Sopris East Peak includes an adjustment of +1.723 & nbsp;m (+5.65 & nbsp;ft) from [[Sea Level Datum of 1929|NGVD & nbsp;29]] to [[North American Vertical Datum of 1988|NAVD & nbsp;88]]. < /ref > \\n | prominence_ft =  \\n | prominence_ref =  \\n | isolation_mi =  \\n | isolation_ref =  \\n | listing =  \\n | range =  \\n | location =  \\n | map =  \\n | map_caption =  \\n | coordinates = {{coord|39.26113|-107.16417|format=dms}} \\n | coordinates_ref =  < ref name= \\\" topoquest \\\" > [http://www.topoquest.com/map.asp?lat=39.26113 & lon=-107.16417 & s=24 & size=l & u=6 & datum=nad27 & layer=DRG East Sopris on TopoQuest] < /ref > \\n | topo =  \\n | type =  \\n | age =  \\n | first_ascent =  \\n | easiest_route =  \\n }} \\n '''Mount Sopris''' is a [[twin-summit]] [[mountain]] in the northwestern [[Elk Mountains (Colorado)|Elk Mountains]] range of the [[Roc\"}\n",
      "\n",
      "\n",
      "\n",
      "\n",
      "Mount Sopris ====================================================================================================\n",
      "Mount Sopris is a twin-summit mountain in the northwestern Elk Mountains range of the [[Roc\n",
      "\n",
      "\n",
      "\n",
      "Wikipedia:Articles for deletion/Andy Carrico ====================================================================================================\n",
      "< div class= \" boilerplate metadata vfd \"  style= \" background-color: #F3F9FF; margin: 0 auto; padding: 0 10px 0 10px; border: 1px solid #AAAAAA; \" > \n",
      " This page is an archive of the discussion about the proposed deletion of the article below. This page is no longer live. Further comments should be made on the article's talk page rather than here so that this page is preserved as an historic record.  < br > The result of the debate was delete.  & mdash; < font color= \" red \" > Xezbeth < /font >  09:37, May 2, 2005 (UTC) \n",
      " \n",
      " ===Andy Carrico=== \n",
      " Delete as a journal entry (?) of some kid, I think.  Certainly not an encyclopedic entry.  Joyous 18:50, Apr 24, 2005 (UTC) \n",
      " *Delete. As Joyous states, this reads like someone's blog entry. Average Earthman 19:12, 24 Apr 2005 (UTC) \n",
      " *Delete. Personal essay more suited for a journal. Zzyzx11 | Talk 21:27, 24 Apr 2005 (UTC) \n",
      " *Delete, not notable, not encyclopaedic. Megan1967 03:55, 25 Apr 2005 (UTC) \n",
      " *Delete Wikipedia is not a blog. Dsmdgold 15:06, Apr 25, 2005 (UTC) \n",
      " \n",
      " :This page is now preserved as an archive of the debate and, like some other VfD subpages, is no longer 'live'. Subsequent comments on the issue, the deletion, or the decision-making process should be placed on the relevant 'live' pages. Please do not edit this page.  < /div >\n",
      "\n",
      "\n",
      "\n",
      "Henry Preserved Smith ====================================================================================================\n",
      "Henry Preserved Smith (October 12, 1847  & ndash; February 26, 1927) was an American biblical scholar. \n",
      " \n",
      " Smith was born in Troy, Ohio. He graduated at Amherst College in 1869 and studied theology in Lane Theological Seminary in 1869–1872, in Berlin in 1872–1874 and in Leipzig in 1876–1877. He was instructor in church history in 1874-1875, and in Hebrew in 1875-1876, and was assistant-professor in 1877-1879 and professor in 1879-1893 of Hebrew and Old Testament exegesis in Lane Theological Seminary. \n",
      " \n",
      " In 1892 he was tried for heresy by the Presbytery of Cincinnati, was found guilty of teaching (in a pamphlet entitled Biblical Scholarship and Inspiration, 1891) that there were  \" errors of historic fact, \"  suppressions of  \" historic truths, \"  etc., in the Books of Chronicles, and that the  \" inspiration of the Holy Scriptures is consistent with the  \" unprofitableness of portions of the sacred writings, \"  - in other words, that inspiration does not imply inerrancy - and he was suspended from the ministry. \n",
      " \n",
      " Smith retired from the denomination, and in 1893, upon becoming a professor at Andover Theological Seminary, entered the ministry of the Congregational Church. From 1897 to 1906 he was a professor in Amherst College, and in 1907 became a professor in the Meadville Theological School. \n",
      " \n",
      " He published The Bible and Islam (1897), Critical and Exegetical Commentary on the Books of Samuel (1899, in the  \" International Critical Commentary \" ) and Old Testament History (1903, in the  \" International Theological Library \" ). In Inspiration and Inerrancy (Cincinnati, 1893), he reprinted the papers on which the heresy charge was made, and outlined the case. His son was Preserved Smith. \n",
      " \n",
      " ==Further reading== \n",
      " *  \" Judged Guilty of Heresy \" , New York Times, May 27, 1894 \n",
      " * \n",
      " * \n",
      " \n",
      "  \n",
      " \n",
      " ==External links==\n",
      "\n",
      "\n",
      "\n",
      "Arthur Seldon ====================================================================================================\n",
      "Arthur Seldon  (29 May 1916 & nbsp;– 11 October 2005) was joint founder president, with Ralph Harris, of the Institute of Economic Affairs, where he directed editorial affairs and publishing for more than thirty years. He is the father of political author Anthony Seldon. \n",
      " \n",
      " ==Biography== \n",
      " Arthur Seldon was born Abraham Margolis in the East End of London to Masha and Pinhas Margolis.  They came to Britain from Kiev fleeing the anti-semitic pogroms in 1903 or 1904.  Abraham was probably born at Mrs Levy's Maternity Home, Petticoat Lane, near Aldgate, London.  Masha and Pinchas Margolis were married in Kiev; he was probably born at Perioslav, a village near Kiev.  The family were very poor: Pinchas worked making caps at a Jewish immigrant's factory called Goldstein  &  Co, Commercial Road, Stepney and, they lived at 12 Marks Street, Aldgate.  It was not until after they moved to 13 Beeford Street, Stepney that Abraham was actually born.  His oldest brother Jack was born in 1906, and a sister Bess in 19\n",
      "\n",
      "\n",
      "\n",
      "Elk Range (California) ====================================================================================================\n",
      "{{Infobox mountain range \n",
      " < !-- *** Heading *** -- > \n",
      " | name = Elk Range \n",
      " | native_name =  \n",
      " | other_name =  \n",
      " < !-- *** Names **** -- >   \n",
      " | etymology =  \n",
      " < !-- *** Image *** -- > \n",
      " | photo =  \n",
      " | photo_caption = \n",
      " < !-- *** Country *** -- > \n",
      " | country = United States \n",
      " | state = California \n",
      " | region =  \n",
      " | district = Mendocino County \n",
      " | topo_map = Big Foot Mountain \n",
      " | topo_maker = USGS \n",
      " < !-- *** Family *** -- > \n",
      " | border = \n",
      " < !-- *** Locations *** -- > \n",
      " | range_coordinates =  \n",
      " | highest =  \n",
      " | elevation_m = 377 \n",
      " | coordinates =  \n",
      " | length_mi = | length_orientation =  \n",
      " | width_mi = | width_orientation =  \n",
      " | area_mi2 =  \n",
      " < !-- *** Features *** -- > \n",
      " | geology = \n",
      " | orogeny = \n",
      " | period = \n",
      " < !-- *** Maps *** -- > \n",
      " | map = California \n",
      " | map_relief = yes \n",
      " | map_size = 220 \n",
      " | map_caption = Location of Elk Range in California  < ref name= \" gnis \" >  < /ref > \n",
      " }} \n",
      "  \n",
      " \n",
      " The Elk Range is a mountain range in Mendocino County,  California in the United States. \n",
      " \n",
      " == References == \n",
      "  \n",
      " \n",
      " Category:Mountain ranges of Mendocino County, California\n",
      "\n",
      "\n",
      "\n",
      "Sunburst Award ====================================================================================================\n",
      "The Sunburst Award for Canadian Literature of the Fantastic is an annual award given for a speculative fiction novel or a book-length collection. \n",
      " \n",
      " ==History== \n",
      " The name of the award comes from the title of the first novel by Phyllis Gotlieb, Sunburst (1964). \n",
      " \n",
      " The first award was given out in 2001. The award consists of a cash prize ($1,000 Canadian for novel length work, and $500 Canadian for short stories) and a medallion.  The winner is selected by jury; a new jury is struck each year. \n",
      " \n",
      " ==List of past award winners== \n",
      " {| class= \" wikitable \" \n",
      " |- \n",
      " ! Year !! Winner !! Work title \n",
      " |- \n",
      " | 2001 || Sean Stewart || Galveston \n",
      " |- \n",
      " | 2002 || Margaret Sweatman || When Alice Lay Down with Peter \n",
      " |- \n",
      " | 2003 || Nalo Hopkinson || Skin Folk \n",
      " |- \n",
      " | 2004 || Cory Doctorow || A Place So Foreign and 8 More \n",
      " |- \n",
      " | 2005 || Geoff Ryman || Air \n",
      " |- \n",
      " | 2006 || Holly Phillips || In the Palace of Repose \n",
      " |- \n",
      " | 2007 || Mark Frutkin || Fabrizio's Return \n",
      " |- \n",
      " | 2008 || Adult: Nalo Hopkinson < br/ > Young adult:  Joanne Proulx  \n",
      " || The New Moon's Arms < br/ > Anthem of a Reluctant Prophet < ref >  < /ref > \n",
      " |- \n",
      " | 2009 || Adult: Andrew Davidson < br/ > Young adult:  Cory Doctorow  \n",
      " || The Gargoyle < br/ > Little Brother < ref >  < /ref > \n",
      " |- \n",
      " | 2010 || Adult: A. M. Dellamonica < br/ > Young adult: Hiromi Goto  || Indigo Springs < br/ > Half World \n",
      " |- \n",
      " | 2011 || Adult: Guy Gavriel Kay < br/ > Young adult: Paul Glennon || Under Heaven < br/ > Bookweirder < ref name= \" 2011-sfscope \" >  < /ref > \n",
      " |- \n",
      " | 2012 || Adult: Geoff Ryman < br/ > '\n",
      "\n",
      "\n",
      "\n",
      "Seán Moore (Irish politician) ====================================================================================================\n",
      "Seán Moore (19 May 1913 – 1 October 1986) was an Irish Fianna Fáil politician. < ref name=oireachtas_db >  < /ref > \n",
      " \n",
      " Seán Moore was born in Dublin in 1913 and grew up in Irishtown, Dublin. He was educated at the Vocational School in Ringsend and University College Dublin where he received a diploma in Social and Economic Science. He worked as an official with the Alliance and Dublin Consumers' Gas Company before becoming involved in politics. Moore first became involved in politics in 1950 when he was elected to Dublin City Council, a position he would hold until 1979. He served as Lord Mayor of Dublin from 1963–64. Moore was first elected to Dáil Éireann as a Fianna Fáil Teachta Dála (TD) on his third attempt at the 1965 general election, representing the Dublin South-East constituency in the 18th Dáil. < ref name=elecs_irl >  < /ref > \n",
      " \n",
      " In 1979 [[Charles Hau\n",
      "\n",
      "\n",
      "\n",
      "Taner Sağır ====================================================================================================\n",
      "Taner Sağır (born March 13, 1985 in Kardzhali, Bulgaria) is a Turkish world and Olympic weightlifting champion. Coming into Athens as holder of all the junior world records at the age of only 19, he broke the Olympic records in the category  & ndash;77 & nbsp;kg snatch, clean and jerk and total. He is seen as a great talent by authorities. \n",
      " \n",
      " ==Early years== \n",
      " He was born in Bulgaria to parents of Turkish ethnicity. In 1989, the family emigrated to Turkey where they settled first in the Batıkent neighborhood of Yenimahalle, Ankara before later moving to Pursaklar, Ankara. In 1994, Taner b\n",
      "\n",
      "\n",
      "\n",
      "Line 6 (company) ====================================================================================================\n",
      "Line 6 is a musical instrument and audio equipment manufacturer. Their product lines include electric and acoustic guitars, basses, guitar and bass amplifiers, effects units, USB audio interfaces and guitar/bass wireless systems. The company was founded in 1996 and is headquartered in Calabasas, California. \n",
      " \n",
      " Line 6 imports its products primarily from China. Since December 2013, it has been a wholly owned subsidiary of the Yamaha Corporation. \n",
      " \n",
      " ==Origin of the company== \n",
      " \n",
      " Marcus Ryle and Michel Doidic (two former Oberheim designers) co-founded Fast-Forward Designs, where they helped develop several notable pro audio products such as the Alesis ADAT, Quadraverbs and QuadraSynth, and Digidesign SampleCell. As digital signal processing became more and more powerful and affordable during the 1980s, they began developing DSP-based products for guitarists. As Ryle tells the story, the name  \" Line 6 \"  came about because the phone system at Fast-Forward Designs only had 5 lines. Because the new guitar-related products were developed in secrecy, the receptionist used  \" Line 6 \"  as a code word of sorts, and paging the\n",
      "\n",
      "\n",
      "\n",
      "Bertie Mee ====================================================================================================\n",
      "Bertram Mee OBE (25 December 1918 – 22 October 2001) was an English footballer who played as a winger for Derby County and Mansfield Town. Mee was also a manager, noted for leading Arsenal to their first Double win in 1971. < ref name=Saints / > \n",
      " \n",
      " ==Playing career== \n",
      " Born in Bulwell, Nottinghamshire, Mee played for Derby County and Mansfield Town. In 1940–41, Mee made 16 guest appearances for Southampton, scoring twice. < ref name=Saints >  < /ref > \n",
      " \n",
      " After his playing career was cut short by injury, Mee joined the Royal Army Medical Corps where he trained as a physiotherapist and spent six years, rising to the rank of sergeant. After leaving, he worked for various football clubs as a physiotherapist before joining Arsenal in 1960, succeeding Billy Milne. < ref name=Bertie >  < /ref > \n",
      " \n",
      " ==Managerial career== \n",
      " \n",
      " ===Arsenal=== \n",
      " After the sacking of Billy Wright in 1966, the club asked Mee to become manager, a highly surprising move, perhaps even to the man himself; Mee asked for a get-out clause for him to return to physiotherapist after twelve months if it didn't wo\n",
      "\n",
      "\n",
      "\n",
      "Category:Value (ethics) ====================================================================================================\n",
      "Category:Concepts in ethics \n",
      " Category:Concepts in metaphysics\n",
      "\n",
      "\n",
      "\n",
      "Paul Cullen (cardinal) ====================================================================================================\n",
      "< !-- NOTE: Much of the text has been copied directly from the Catholic Encyclopaedia -- > \n",
      "  \n",
      " Paul Cullen (29 April 1803 – 24 October 1878) was Roman Catholic Archbishop of Dublin and previously of Armagh, and the first Irish cardinal. < ref >  < /ref >  His Ultramontanism spearheaded the Romanisation of the Catholic Church in Ireland and ushered in the devotional revolution experienced in Ireland through the second half of the 19th century and much of the 20th century.  A trained biblical theologian and\n",
      "\n",
      "\n",
      "\n",
      "Paul Egede ====================================================================================================\n",
      "right|thumb|250px|Paul Hansen Egede \n",
      " \n",
      " Paul or Poul Hansen Egede (9 September 1708 – 6 June 1789) was a Dano-Norwegian theologian, missionary, and scholar, principally concerned with the Lutheran mission among the Kalaallit people of the Greenland established by his father Hans in 1721. < ref > Egede, Poul Hansen, 1708-1789, John Carter Brown Library. < /ref > \n",
      " \n",
      " ==Biography== \n",
      " Egede was born in Kabelvåg, a village in Vågan, Norway, on the southern shore of Austvågøy. He was the older son of the village minister Hans Egede and his wife Gertrud Rask. Hans became dedicated to the cause of restoring contact with and missionizing among the Norsemen of the lost Greenland colony, who were presumed to have remained Catholic following the Reformation. He parlayed support among Norwegian merchants and the Danish Mission College into the establishment of the Bergen Greenland Company, which equipped three ships which left Bergen in 1721. A few months later, the Egede family and about forty other colonists landed on the Island of Hope (modern Kangeq) at the mouth of the fjord which houses today's Nuuk. Scurvy broke out and most returned home as quickly as possible, but the natives proved generally curious and helpful. No Norse survivors were found and Hans's company went bankrupt in 1727, but he and his family learned the local Inuit dialect and began a Christian mission among them. < ref name= \" mgf \" > \" Hans Egede. Explorer, Colonizer  \" . Missionary Gospel Fellowship (Greenville, SC). Accessed 20 Jan 2010. < /ref > \n",
      "  \n",
      " Paul assisted his father in his work and, when his mother died and Hans returned to bury her in Denmark after a smallpox outbreak, he took over the mission for an additional six years, accepting to forgo his own desire to become a Danish naval officer. < ref name= \" BibNar \" > Del, Anden.  \" [http://www.ilisimatusarfik.gl/Portals/0/Ekstern/Generel\n",
      "\n",
      "\n",
      "\n",
      "Gregory Pakourianos ====================================================================================================\n",
      "Gregory Pakourianos (, Grigol Bakurianis-dze; , Gregorios Pakourianos; , Grigor Bakurian; ) (died 1086) was a Byzantine politician and military commander. He was the founder of the Monastery of the Mother of God Petritzonitissa in Bachkovo < ref > Typikon of Gregory Pakourianos for the Monastery of the Mother of God Petritzonitissa in Bachkovo . < /ref >  and author of its typikon. The monks of this Orthodox monastery were Iberians. < ref > Asdracha Catherine, La région des Rhodopes aux XIIIe et XIVe siècles: étude de géographie historique, Athen: Verlag der Byzantinisch-Neugriechischen Jahrbücher, 1976, pp. 74-75. < /ref > < ref >  Arutjunova-Fidanjan, Viada. Типик Григория Пакуриана. Введение, перевод и комментарий (The Typikon of Gregorius Pacurianus). Yerevan, 1978, pp. 134-135, 249. < /ref > < ref > Asdracha Catherine, La région des Rhodopes aux XIIIe et XIVe siècles: étude de géographie historique, Athen: Verlag der Byzantinisch-Neugriechischen Jahrbücher, 1976, Pp. 74 – 75 < /ref > \n",
      " \n",
      " ==Life== \n",
      " \n",
      " ===Background=== \n",
      " right|thumb|The ossuary of the Bachkovo Monastery which houses the remains of Gregory Pakourianos. \n",
      " Gregory's origins are a matter for scholarly dispute. < ref name= \" Kazhdan \" > [\n",
      "\n",
      "\n",
      "\n",
      "Category:Mountain ranges of British Columbia ====================================================================================================\n",
      "*Mountain ranges in the province of British Columbia, in Western Canada.  \n",
      " :::: \n",
      "  \n",
      " \n",
      "  \n",
      "  \n",
      " \n",
      " Category:Landforms of British Columbia \n",
      " British Columbia \n",
      " Category:Geology of British Columbia\n",
      "\n",
      "\n",
      "\n",
      "Mexican labor law ====================================================================================================\n",
      "Mexican labor law governs the process by which workers in Mexico may organize labor unions, engage in collective bargaining, and strike. Current labor law reflects the historic interrelation between the state and the Confederation of Mexican Workers, the labor confederation officially aligned with the Institutional Revolutionary Party (the Institutional Revolutionary Party, or PRI), which ruled Mexico under various names for more than seventy years.  \n",
      " \n",
      " While the law, on its face, promises workers the right to strike and to organize, in practice it makes it difficult or impossible for independent unions to organize while condoning the corrupt practices of many existing unions and the employers with which they deal. \n",
      " \n",
      " ==History of Mexican labor law== \n",
      " The current system originated in the Mexican Revolution of 1910–1920, which produced the Constitution of 1917. Article 123 of that Constitution gave workers the right to organize labor unions and to strike. It also provided protection for women and children, the eight-hour day, and a living wage.  \n",
      " \n",
      " The Constitution's promised rights, however, remained mere promises until 1931, when the government enacted the Ley Federal de Trabajo or Federal Labor Law. The LFT established Juntas de Conciliación y Arbitraje (the Boards of Conciliation and Arbitration), made up of representatives of the government, employers and labor unions. \n",
      " \n",
      " ==Organizing, elections and strikes== \n",
      " In order to participate in this system, a union must have a legal registration (registro), must have an officially recognized right to negotiate collective bargaining agreements (titularidad), and must periodically re-register its officers and be accepted by the state (toma de nota). This system can be used to hobble independent unions not associated with the CTM or other federations that have established relations with the state, since all three members of these boards often have self-interested reasons for denying or delaying registration to rival unions. \n",
      " \n",
      " Employers can also avoid unionization by entering into  \" protection contracts \"  with  \" sindicatos blancos \"  or  \" white unions \" , often before a plant is ever built. Such contracts frequently give the union a closed shop, which authorizes the union to demand that the employer fire a worker who is not a member in the union in good standing; that power can, in turn, be used to single out employees who seek to organize ind\n",
      "\n",
      "\n",
      "\n",
      "Atlas Network ====================================================================================================\n",
      "The Atlas Network, formerly known as the Atlas Economic Research Foundation, is a nonprofit organization based in the United States. The group aims to promote free-market economic policies across the world. < ref name=peck >  < !--|accessdate=24 November 2014-- > < /ref >  The stated mission of the Atlas Network is  \" to strengthen the worldwide freedom movement by cultivating a highly effective and expansive network that inspi\n",
      "\n",
      "\n",
      "\n",
      "Yesler Terrace, Seattle ====================================================================================================\n",
      "thumb|Yesler Way cuts through Yesler Terrace. The Columbia Center and other downtown skyscrapers can be seen in center background, and the upper part of Harborview Medical Center is just visible at right. \n",
      " thumb|Typical Yesler Terrace houses \n",
      " thumb|Children's playground, Yesler Terrace \n",
      " \n",
      " Yesler Terrace, a  public housing development in Seattle, Washington was, at the time of its completion in 1941, Washington State's first public housing development and the first racially integrated public housing development in the United States. It occupies much of the area formerly known as Yesler Hill, Yesler's Hill, or Profanity Hill. The development is administered by the Seattle Housing Authority, who have been redeveloping the neighborhood into a mixed-income area with multi-story buildings and community amenities since 2013. \n",
      " \n",
      " ==Etymology== \n",
      " \n",
      " The name derives ultimately from Henry Yesler, pioneer mill owner. Yesler Way was originally the skid road on which logs were skidded down to the mill. The southern part of the hill came to be known as Yesler's Hill, Yesler Hill, or Profanity Hill. < ref >  < /ref >  These names referred roughly to the part of First Hill south of the original King County Courthouse at 8th Avenue and Terrace Street. Razed in 1931, the courthouse site was roughly the western portion of the present-day Harborview Medical Center. The name  \" Profanity Hill \"  could have its origins from the cursing of the attorneys and litigants at having to climb so steep a grade after missing the cable car, < ref >  < /ref >  or because of the slum neighborhood known for its uncouth inhabitants to the south where Yesler Terrace is now situated. \n",
      " \n",
      " ==Description== \n",
      " \n",
      " Yesler Terrace is located on the southernmost part of [[First Hill, Seattle, Washington|\n",
      "\n",
      "\n",
      "\n",
      "Wikipedia:Articles for deletion/Invigilator ====================================================================================================\n",
      "< div class= \" boilerplate metadata vfd \"  style= \" background-color: #F3F9FF; margin: 0 auto; padding: 0 10px 0 10px; border: 1px solid #AAAAAA; \" > \n",
      " This page is an archive of the discussion about the proposed deletion of the article below. This page is no longer live. Further comments should be made on the article's talk page rather than here so that this page is preserved as an historic record.  < br > The result of the debate was delete moink 08:36, 9 May 2005 (UTC) \n",
      " \n",
      " ===Invigilator=== \n",
      " Dictdef.  The page has already been transwikied to wiktionary.  RickK 19:07, Apr 24, 2005 (UTC) \n",
      " * < s > Delete, unless someone can think of a useful place to  < /s > redirect it (Standardized testing?). I admit when I transwikied it I was surprised to find that it was a word :) --Dmcdevit 19:42, 24 Apr 2005 (UTC) (vote changed --Dmcdevit 20:44, 24 Apr 2005 (UTC)) \n",
      " *redirect to Test (student assessment) or Standardized test/Standardized testing (they have merge tags, but it's not obvious which will be kept). It is a word that I became all too familiar with from the first exams I had to sit when I was about 11 or 12, right through to univesity. Thryduulf 20:37, 24 Apr 2005 (UTC) \n",
      " **I was unsure of the redirect as I had no idea how common the term was. I'll go by your experience and change my vote. --Dmcdevit 20:44, 24 Apr 2005 (UTC) \n",
      " ***We use redirects a lot, even for uncommon terms :) Radiant_* 15:38, Apr 25, 2005 (UTC) \n",
      " ****Ah, true... But not usually for words I hadn't heard of until I looked them up in the dictionary to make sure it's not a hoax before putting it in Wiktionary. But I guess I'm just dumb. :) --Dmcdevit 22:19, 25 Apr 2005 (UTC) \n",
      " *****Perhaps its a term peculiar to the UK? Thryduulf 22:31, 25 Apr 2005 (UTC) \n",
      " ******I think so now. In fact, just today I came upon it's usage in International Baccalaureate papers talking about the May tests. They go by all British spelling/wording, so that explains my (American) non-understanding. Definitely redirect. I've heard the same position referred to as a  \" proctor \"  over here. --Dmcdevit 00:58, 26 Apr 2005 (UTC) \n",
      " *******Now I would have had no idea what a  \" proctor \"  was before reading your message! Perhaps i\n",
      "\n",
      "\n",
      "\n",
      "Paul Fleming (poet) ====================================================================================================\n",
      "Paul Fleming, also spelt Flemming (October 5, 1609 – April 2, 1640 < ref >  < /ref > ), was a German physician and poet. \n",
      " \n",
      " As well as writing notable verse and hymns, he spent several years accompanying the Duke of Holstein's embassies to Russia and Persia. He also lived for a year at Reval on the coast of Estonia, where he wrote many love-songs. \n",
      " \n",
      " ==Life== \n",
      " Born at Hartenstein, in Zwickauer Land, Saxony, the son of Abraham Fleming, a well-to-do Lutheran pastor, Fleming received his early education from his father before attending a school at Mittweida and then the famous  at Leipzig. He received his initial medical training at the University of Leipzig, where he also studied literature and graduated as a Doctor of Philosophy before gaining his medical doctorate at the University of Hamburg. < ref name=thomas > John Wesley Thomas, German verse from the 12th to the 20th century in English translation (AMS Press, 1966), p. 25 < /ref > < ref name=mueller > Friedrich Max Müller, ''Early German classics from the fourth to fifteenth century'\n",
      "\n",
      "\n",
      "\n",
      "Wikipedia:Wikipedia Signpost/2005-04-25/From the editor ====================================================================================================\n",
      "< noinclude >  < /noinclude > \n",
      " __NOTOC__ \n",
      " __NOEDITSECTION__ \n",
      " ==From the guest editor== \n",
      " \n",
      " As you read this week's The Signpost you may notice slight changes in style, as for the first time Michael Snow's careful hand is not moderating and clarifying each article.  I have been asked to fill in during his vacation, and hope to maintain the steady tone and thorough coverage that have marked the first months of the Signpost. \n",
      " \n",
      " < !--One of this week's articles will come a bit later in the week;  please continue to submit articles on your favorite events as they occur. -- > \n",
      " Last week saw the first use of a new newsroom for contributing stories and ideas; it is now being used to develop all of the articles that go into each issue.  Please take advantage of it to write about the projects and events closest to your heart. \n",
      " \n",
      " & nbsp; --Samuel Klein \n",
      " \n",
      " < noinclude > < center > < small > < noinclude >  < /noinclude > < /small > < /center > < /noinclude > \n",
      " \n",
      " 25 From \n",
      " 0425\n",
      "\n",
      "\n",
      "\n",
      "Snowmass Mountain ====================================================================================================\n",
      "Snowmass Mountain is a fourteen thousand foot tall mountain in the U.S. state of Colorado, and is the thirty-fourth highest mountain peak in the state. Located in the Elk Mountains, within the Maroon Bells-Snowmass Wilderness of the White River National Forest, it lies along the border between the [[Pitkin County, Colorado|P\n",
      "\n",
      "\n",
      "\n",
      "Bryn railway station ====================================================================================================\n",
      "Bryn railway station is in Bryn, in the Metropolitan Borough of Wigan, Greater Manchester, England. It is the nearest station to Ashton-in-Makerfield.  The station is situated on the electrified  Liverpool to Wigan Line  northeast of Liverpool Lime Street and  south of Wigan. The station, and all trains serving it, are operated by Northern. \n",
      " \n",
      " ==Facilities== \n",
      " The station is the only unstaffed one on the Huyton to Wigan line, being outside the Merseytravel area (but within that of Greater Manchester PTE).  Ticket machines have recently been installed on both platforms.  The old station buildings shown in the caption have since been demolished and were replaced by basic waiting shelters. < ref > [https://ww\n",
      "\n",
      "\n",
      "\n",
      "Wikipedia:WikiProject Swiss municipalities/List of title variations ====================================================================================================\n",
      "< !-- No need to disambiguate titles here; this is a list of variations, not the list with the canoncial titles. -- > \n",
      " \n",
      " It can be used to monitor changes on the listed pages (using  \" Related changes \" ). Please don't disambiguate pages on this and avoid removing links without prior discussion. You may want to add missing variations. \n",
      " \n",
      " *Wikipedia:WikiProject Swiss municipalities/List of title variations/A-C \n",
      " *Wikipedia:WikiProject Swiss municipalities/List of title variations/D-K \n",
      " *Wikipedia:WikiProject Swiss municipalities/List of title variations/L-N \n",
      " *Wikipedia:WikiProject Swiss municipalities/List of title variations/O-S \n",
      " *Wikipedia:WikiProject Swiss municipalities/List of title variations/T-Z\n",
      "\n",
      "\n",
      "\n",
      "Implicit-association test ====================================================================================================\n",
      "The implicit-association test (IAT) is a measure within social psychology designed to detect the strength of a person's subconscious association between mental representations of objects (concepts) in memory. It is commonly applied to assess implicit stereotypes held by test subjects, such as unconsciously associating stereotypically black names with words consistent with black stereotypes. < ref name= \" Greenwald 1998 \"  / >  The test's format is highly versatile, and has been used to investigate biases in racial groups, gender, sexuality, age, and religion, as well as assessing self-esteem. \n",
      " \n",
      " The IAT was introduced in the scientific literature in 1998 by Anthony Greenwald, Debbie McGhee, and Jordan Schwartz. < ref name= \" Greenwald 1998 \"  / >  The IAT is now widely used in social psychology research and, to some extent, in clinical, cognitive, and developmental psychology research. The IAT is the subject of much controversy regarding validity, reliability, and whether test results are an accurate representation of implicit bias. \n",
      " \n",
      " ==History== \n",
      " \n",
      " ===Implicit cognition and measurement=== \n",
      " In 1995, social psychology researchers Anthony Greenwald and Mahzarin Banaji asserted that the idea of implicit and explicit memory can apply to social constructs as well. < ref >  < /ref >  If memories that are not accessible to awareness can influence our actions, associations can also influence our attitudes and behavior. Thus, measures that tap into individual differences in associations of concepts should be developed. This would allow researchers to understand attitudes that cannot be measured through explicit self-report methods due to lack of awareness or social-desirability bias. < ref name =  \" Nosek 2005 \" > {{cite journal | last1 = Nosek | first1 = B. A. | last2 = Greenwald | first2 = A. G. | last3 = Banaji | first3 = M. R. | year = 2005 | title = Understanding and using the Implicit Association Test: II. Method variables and construct validity | url\n",
      "\n",
      "\n",
      "\n",
      "John M. Loh ====================================================================================================\n",
      "John Michael Loh (born March 14, 1938) < ref name= \" DailyPress \" >  < /ref >  is a retired four-star general in the United States Air Force who last served as Commander, Air Combat Command from June 1992 to July 1995. His other four-star assignment include being the 24th Vice Chief of Staff of the Air Force from June 1990 & nbsp;– March 1991, and Commander, Tactical Air Command from March 1991 & nbsp;– June 1992. He retired from the Air Force on July 1, 1995. \n",
      " \n",
      " Loh graduated from Gonzaga College High School, Washington, D.C., in 1956 and the United States Air Force Academy in 1960. He has a master's degree in aeronautical engineering from Massachusetts Institute of Technology. He has commanded the Aeronautical Systems Division, Air Force Systems Command. The general commanded Tactical Air Command, then upon its deactivation, became the first commander of Air Combat Command. He is a command pilot with more than 4,300 flying hours, primarily in fighter aircraft, and flew 204 combat missions in Vietnam. Loh retired from the USAF on July 1, 1995. He founded\n",
      "\n",
      "\n",
      "\n",
      "Cammie King ====================================================================================================\n",
      "thumb|Clark Gable and Cammie King in Gone With the Wind (1939) \n",
      " Eleanore Cammack  \" Cammie \"  King (August 5, 1934 – September 1, 2010) was an American child actress. She is best known for her portrayal of Bonnie Blue Butler in Gone with the Wind (1939). She also provided the voice for the doe Faline as a fawn in the animated Disney film, Bambi (1942). \n",
      " \n",
      " ==Life and career== \n",
      " King was born in Los Angeles, California to Winfred Cammack King (1898-1966) and Eleanore  \" Helen \"  Brodie (1905-1990). < ref name= \" ReferenceA \" > Ancestry.com.  Various records on her family and marriages. < /ref >   While her acting career only spanned four years during her childhood, she appeared in two of the biggest movies of the era, Gone with the Wind and Bambi. \n",
      " \n",
      " Her parents divorced a few years after the filming of Gone With the Wind. Her mother, Eleanore, was a columnist for the Los Angeles Examiner.  She was the godchild of Herbert Kalmus, co-founder of Technicolor, and became his stepchild in 1949 when he married her mother. < ref name= \" ReferenceB \" > September 03, 2010|By Valerie J. Nelson, Los Angeles Times < /ref > \n",
      " \n",
      " King graduated from USC with a bachelor's degree in communications in 1956 and went to work as a production assistant on Climax!, a CBS-TV anthology series. \n",
      " \n",
      " She married Walter  \" Ned \"  Pollock in 1957. Together they adopted two children, Matthew and Katharine. Pollock died of cancer in 1968. She then married Michael W Conlon in 1971, and he adopted her two children. She and Conlon divorced in 1975. < ref name= \" ReferenceA \" / > < ref name= \" accessaltlanta \" > {{cite news | url=http://www.accessatlanta.com/atlanta-movies/actress-who-played-rhett-605586.html | author=B\n",
      "\n",
      "\n",
      "\n",
      "PMI ====================================================================================================\n",
      "PMI may stand for: \n",
      "  \n",
      " \n",
      " ==Computer science== \n",
      " * Pointwise mutual information, a measure of association used in information theory and statistics \n",
      " * Privilege Management Infrastructure, security infrastructure to authorize users \n",
      " * Product and manufacturing information, annotation shown on 3D CAD models \n",
      " \n",
      " ==Companies== \n",
      " * Philip Morris International, international tobacco company \n",
      " * Picture Music International, former division of EMI that specialised in music video releases \n",
      " * Precious Moments, Inc., a company that designs and distributes Precious Moments products \n",
      " * Precision Monolithics, a semiconductor manufacturing company \n",
      " \n",
      " ==Economics== \n",
      " * Passenger-mile or pmi, a unit of passenger transportation quantity \n",
      " * Post-merger integration, after the legal merger of companies \n",
      " * Private mortgage insurance, another term for Lenders mortgage insurance \n",
      " * Purchasing Managers' Index, a measure of business sentiment \n",
      " \n",
      " ==Locations== \n",
      " * Palma de Mallorca Airport (IATA airport code PMI) \n",
      " \n",
      " ==Mathematics== \n",
      " * Pointwise mutual information, measure in statistical probability theory \n",
      " * Principle of Mathematical Induction, a method of proof involving the natural numbers \n",
      " \n",
      " ==Organizations== \n",
      " * Plumbing Manufacturers International, trade association for plumbing manufacturers selling in North America \n",
      " * Project Management Institute, US, establishes standards and policy \n",
      " * Pensions Management Institute, United Kingdom professional body supporting pension management organizations \n",
      " * Palang Merah Indonesia, the Indonesian Red Cross Society \n",
      " \n",
      " ==Schools== \n",
      " *Philippine Maritime Institute, a private, non-sectarian maritime school in the Philippines \n",
      " **PMI College - Bohol, Tagbilaran City, Bohol \n",
      " *Pima Medical Institute, a health-care college with campuses across the western United States \n",
      " \n",
      " ==Medicine== \n",
      " * All of Us (initiative), formerly  \" Precision Medicine Initiative \" , an Obama-era initiative in precision medicine. \n",
      " * Point of maximum impulse, or apex beat, the point on the chest where the impulse of the left ventricle is strongest \n",
      " * Post-mortem interval, the time that has elapsed since a person has died \n",
      " \n",
      " ==Technique== \n",
      " * Positive material identification, identification of materials by spectrog\n"
     ]
    }
   ],
   "source": [
    "import mwparserfromhell\n",
    "\n",
    "\n",
    "wiki_parsed_base_path = 'data/wiki_parsed/'\n",
    "wiki_parsed_paths = []\n",
    "\n",
    "partition_number = 1\n",
    "\n",
    "for xpp in xml_parsed_paths:\n",
    "    \n",
    "    wiki_parsed_path = f'{wiki_parsed_base_path}p_wikip_{partition_number}.jsonl'\n",
    "    \n",
    "    with open(xpp, 'r') as file:\n",
    "        \n",
    "        for i, line in enumerate(file):\n",
    "            entry = json.loads(line)\n",
    "            wiki = mwparserfromhell.parse(entry['text'])\n",
    "            \n",
    "#             print(entry['title'], '=' * 100)\n",
    "#             print(wiki.strip_code().strip())\n",
    "#             [x.remove for x in wiki.filter_templates()]\n",
    "            if i == 3:\n",
    "                print('THIS IS THE LINE BEING PRINTED', line)\n",
    "            print('\\n\\n\\n' + entry['title'], '=' * 100)\n",
    "            print(wiki.strip_code().strip())\n",
    "            if i == 30:\n",
    "                break"
   ]
  },
  {
   "cell_type": "code",
   "execution_count": 61,
   "metadata": {},
   "outputs": [],
   "source": [
    "with open('extracted_text.txt', 'w') as the_file:\n",
    "    the_file.write(handler._pages[1][1])\n",
    "    the_file.write('\\n')"
   ]
  },
  {
   "cell_type": "code",
   "execution_count": 116,
   "metadata": {},
   "outputs": [
    {
     "name": "stdout",
     "output_type": "stream",
     "text": [
      "['The X-Files', 'Third World', 'Twin Peaks', 'Thallium', 'Text editor', 'Tennis court', 'The Communist Manifesto', 'Trier', 'Ton', 'Talk (software)']\n"
     ]
    }
   ],
   "source": [
    "# Object for handling xml\n",
    "file_path = '/Users/christopher/Downloads/enwiki-20200101-pages-articles2.xml-p30304p88444.bz2'\n",
    "handler = WikiXmlHandler()\n",
    "\n",
    "# Parsing object\n",
    "parser = xml.sax.make_parser()\n",
    "parser.setContentHandler(handler)\n",
    "\n",
    "for i, line in enumerate(subprocess.Popen(['bzcat'], \n",
    "                         stdin = open(file_path), \n",
    "                         stdout = subprocess.PIPE).stdout):\n",
    "    parser.feed(line)\n",
    "    \n",
    "    # Stop when 9 articles have been found\n",
    "    if len(handler._pages) > 9:\n",
    "        break\n",
    "        \n",
    "print([x[0] for x in handler._pages])"
   ]
  },
  {
   "cell_type": "code",
   "execution_count": 55,
   "metadata": {},
   "outputs": [],
   "source": [
    "#print(handler._pages[2][1])"
   ]
  },
  {
   "cell_type": "code",
   "execution_count": 69,
   "metadata": {},
   "outputs": [],
   "source": [
    "import mwparserfromhell \n",
    "\n",
    "# print(handler._pages[1][1])\n",
    "\n",
    "# Create the wiki article\n",
    "wiki = mwparserfromhell.parse(handler._pages[1][1], skip_style_tags=True)\n",
    "wiki2 = mwparserfromhell.parse(handler._pages[1][1])"
   ]
  },
  {
   "cell_type": "code",
   "execution_count": 60,
   "metadata": {},
   "outputs": [
    {
     "data": {
      "text/plain": [
       "'During the Cold War, the term \\'\\'\\'Third World\\'\\'\\' referred to the developing countries of Asia, Africa, and Latin America, the nations not aligned with either the First World or the Second World. < ref name= \" auto \" >  < /ref > < ref >  < /ref >  This usage has become popular, mostly in the western countries, due to the ending of the Cold War. \\n \\n In the decade following the fall of the Soviet Union and the end of the Cold War in 1991, the term \\'\\'Third World\\'\\' was used interchangeably with \\'\\'developing countries\\'\\', but the concept has become outdated as it no longer represents the current political or economic state of the world. The three-world model arose during the Cold War to define countries aligned with NATO (the First World), the Eastern Bloc (the Second World, although this term was less used), or neither (the Third World). Strictly speaking,  \" Third World \"  was a political, rather than an economic, grouping. \\n ==Etymology== \\n French demographer, anthropologist and historian A'"
      ]
     },
     "execution_count": 60,
     "metadata": {},
     "output_type": "execute_result"
    }
   ],
   "source": [
    "wiki.strip_code().strip()[:1000]"
   ]
  },
  {
   "cell_type": "code",
   "execution_count": 173,
   "metadata": {},
   "outputs": [
    {
     "data": {
      "text/plain": [
       "'During the Cold War, the term Third World referred to the developing countries of Asia, Africa, and Latin America, the nations not aligned with either the First World or the Second World. < ref name= \" auto \" >  < /ref > < ref >  < /ref >  This usage has become popular, mostly in the western countries, due to the ending of the Cold War. \\n \\n In the decade following the fall of the Soviet Union and the end of the Cold War in 1991, the term Third World was used interchangeably with developing countries, but the concept has become outdated as it no longer represents the current political or economic state of the world. The three-world model arose during the Cold War to define countries aligned with NATO (the First World), the Eastern Bloc (the Second World, although this term was less used), or neither (the Third World). Strictly speaking,  \" Third World \"  was a political, rather than an economic, grouping. \\n ==Etymology== \\n French demographer, anthropologist and historian Alfred Sauvy, i'"
      ]
     },
     "execution_count": 173,
     "metadata": {},
     "output_type": "execute_result"
    }
   ],
   "source": [
    "res_with_refs = wiki2.strip_code().strip()[:1000]\n",
    "res_with_refs"
   ]
  },
  {
   "cell_type": "code",
   "execution_count": 78,
   "metadata": {},
   "outputs": [],
   "source": [
    "import re\n",
    "\n",
    "def cleanhtml(raw_html):\n",
    "  cleanr = re.compile('<.*?>')\n",
    "  cleantext = re.sub(cleanr, '', raw_html)\n",
    "  return cleantext"
   ]
  },
  {
   "cell_type": "code",
   "execution_count": 171,
   "metadata": {},
   "outputs": [
    {
     "data": {
      "text/plain": [
       "'During the Cold War, the term Third World referred to the developing countries of Asia, Africa, and Latin America, the nations not aligned with either the First World or the Second World.        This usage has become popular, mostly in the western countries, due to the ending of the Cold War. \\n \\n In the decade following the fall of the Soviet Union and the end of the Cold War in 1991, the term Third World was used interchangeably with developing countries, but the concept has become outdated as it no longer represents the current political or economic state of the world. The three-world model arose during the Cold War to define countries aligned with NATO (the First World), the Eastern Bloc (the Second World, although this term was less used), or neither (the Third World). Strictly speaking,  \" Third World \"  was a political, rather than an economic, grouping. \\n ==Etymology== \\n French demographer, anthropologist and historian Alfred Sauvy, in an article published in the French magazine'"
      ]
     },
     "execution_count": 171,
     "metadata": {},
     "output_type": "execute_result"
    }
   ],
   "source": [
    "cleanhtml(res_with_refs)[:1000]"
   ]
  },
  {
   "cell_type": "code",
   "execution_count": 161,
   "metadata": {},
   "outputs": [],
   "source": [
    "text = \"\"\"{{About|the television series|the franchise|The X-Files (franchise)|other uses}}\n",
    "{{short description|American science fiction TV series}}\n",
    "{{Use mdy dates|date=March 2018}}\n",
    "{{Infobox television\n",
    "| show_name = The X-Files\n",
    "| image = Thexfiles.jpg\n",
    "| genre = {{Plain list|\n",
    "* [[Science fiction]]{{sfn|Delsara|2000|p=59}}\n",
    "* [[Horror fiction|Horror]]{{sfn|Delsara|2000|p=59}}\n",
    "* [[Drama (film and television)|Drama]]&lt;ref&gt;{{cite web |url=http://www.allmovie.com/movie/the-x-files-season-01-v280868 |work=[[Allmovie]] |publisher=[[Rovi]] |title=The Files: Seasons 01 |author=Cooper, Tracie |accessdate=November 19, 2012}}&lt;/ref&gt;\n",
    "* [[Mystery fiction|Mystery]]{{sfn|Delsara|2000|p=62}}\n",
    "* [[Thriller (genre)|Thriller]]{{sfn|Delsara|2000|p=58}}\n",
    "* [[Supernatural fiction]]&lt;ref&gt;{{cite book|editor1-last=Baugh|editor1-first=Lloyd|editor2-last=Mazza|editor2-first=Giuseppe|editor3-last=Srampickal|editor3-first=Jacob |title=Cross Connections |date=2006 |publisher=[[Pontifical Gregorian University]] |isbn=9788878390614 |page=201}}&lt;/ref&gt;\n",
    "* [[Occult detective fiction]]}}\"\"\""
   ]
  },
  {
   "cell_type": "code",
   "execution_count": 162,
   "metadata": {},
   "outputs": [],
   "source": [
    "my_wiki = mwparserfromhell.parse(text)"
   ]
  },
  {
   "cell_type": "code",
   "execution_count": 164,
   "metadata": {},
   "outputs": [
    {
     "data": {
      "text/plain": [
       "['*', '*', '*', '*', '*', '*', '*']"
      ]
     },
     "execution_count": 164,
     "metadata": {},
     "output_type": "execute_result"
    }
   ],
   "source": [
    "my_wiki.filter_tags()"
   ]
  },
  {
   "cell_type": "code",
   "execution_count": null,
   "metadata": {},
   "outputs": [],
   "source": []
  }
 ],
 "metadata": {
  "kernelspec": {
   "display_name": "Python 3",
   "language": "python",
   "name": "python3"
  },
  "language_info": {
   "codemirror_mode": {
    "name": "ipython",
    "version": 3
   },
   "file_extension": ".py",
   "mimetype": "text/x-python",
   "name": "python",
   "nbconvert_exporter": "python",
   "pygments_lexer": "ipython3",
   "version": "3.7.6"
  }
 },
 "nbformat": 4,
 "nbformat_minor": 4
}
